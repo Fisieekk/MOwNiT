{
 "cells": [
  {
   "cell_type": "code",
   "execution_count": null,
   "metadata": {},
   "outputs": [],
   "source": [
    "import numpy as np\n",
    "import matplotlib.pyplot as plt\n",
    "from scipy.integrate import trapz, simps\n"
   ]
  },
  {
   "cell_type": "code",
   "execution_count": null,
   "metadata": {},
   "outputs": [],
   "source": [
    "def f(x):\n",
    "    return 4/(1+x**2)"
   ]
  },
  {
   "cell_type": "code",
   "execution_count": null,
   "metadata": {},
   "outputs": [],
   "source": [
    "def mid_point_rule(a, b, m):\n",
    "    h = (b - a) / (2 * m)\n",
    "    x = np.linspace(a + h, b - h, m)\n",
    "    return 2 * h * np.sum(f(x))\n",
    "\n",
    "def trapezoidal_rule(a, b, m):\n",
    "    h = (b - a) / m\n",
    "    x = np.linspace(a, b, m + 1)\n",
    "    return h / 2 * (f(x[0]) + 2 * np.sum(f(x[1:-1])) + f(x[-1]))\n",
    "\n",
    "def simpson_rule(a, b, m):\n",
    "    h = (b - a) / (2 * m)\n",
    "    x = np.linspace(a, b, 2 * m + 1)\n",
    "    return h / 3 * (f(x[0]) + 4 * np.sum(f(x[1:-1:2])) + 2 * np.sum(f(x[2:-2:2])) + f(x[-1]))"
   ]
  },
  {
   "cell_type": "code",
   "execution_count": null,
   "metadata": {},
   "outputs": [],
   "source": [
    "def calculate_integral(a, b, m, method):\n",
    "    return method(a, b, m)\n",
    "\n",
    "def calculate_error(a, b, m, method):\n",
    "    return np.abs(np.pi - calculate_integral(a, b, m, method))\n",
    "\n",
    "def calculate_errors(a, b, m, method):\n",
    "    errors = []\n",
    "    for i in range(1, m + 1):\n",
    "        errors.append(calculate_error(a, b, i, method))\n",
    "    return errors"
   ]
  },
  {
   "cell_type": "code",
   "execution_count": null,
   "metadata": {},
   "outputs": [],
   "source": [
    "a = 0\n",
    "b = 1\n",
    "m = 25\n",
    "\n",
    "mid_point_errors = calculate_errors(a, b, m, mid_point_rule)\n",
    "trapezoidal_errors = calculate_errors(a, b, m, trapezoidal_rule)\n",
    "simpson_errors = calculate_errors(a, b, m, simpson_rule)\n",
    "\n",
    "n = np.arange(1, m + 1)\n",
    "plt.plot(n, mid_point_errors, label='Mid-point rule')\n",
    "plt.plot(n, trapezoidal_errors, label='Trapezoidal rule')\n",
    "plt.plot(n, simpson_errors, label='Simpson rule')\n",
    "plt.yscale('log')\n",
    "plt.xscale('log')\n",
    "plt.xlabel('Number of evaluations')\n",
    "plt.ylabel('Absolute error')\n",
    "plt.legend()\n",
    "plt.show()"
   ]
  },
  {
   "cell_type": "code",
   "execution_count": null,
   "metadata": {},
   "outputs": [],
   "source": [
    "#b)"
   ]
  },
  {
   "cell_type": "code",
   "execution_count": null,
   "metadata": {},
   "outputs": [],
   "source": [
    "#c)"
   ]
  },
  {
   "cell_type": "code",
   "execution_count": null,
   "metadata": {},
   "outputs": [],
   "source": [
    "from numpy.polynomial.legendre import leggauss as gauss\n"
   ]
  },
  {
   "cell_type": "code",
   "execution_count": null,
   "metadata": {},
   "outputs": [],
   "source": [
    "def gauss_legendre_rule(a, b, n):\n",
    "    x, w = gauss(n)\n",
    "    return np.sum(w * f((b - a) / 2 * x + (a + b) / 2))"
   ]
  },
  {
   "cell_type": "code",
   "execution_count": null,
   "metadata": {},
   "outputs": [],
   "source": [
    "gauss_legendre_errors = calculate_errors(a, b, m, gauss_legendre_rule)\n",
    "\n",
    "n = np.arange(1, m + 1)\n",
    "plt.plot(n, gauss_legendre_errors, label='Gauss-Legendre rule')\n",
    "plt.plot(n, mid_point_errors, label='Mid-point rule')\n",
    "plt.plot(n, trapezoidal_errors, label='Trapezoidal rule')\n",
    "plt.plot(n, simpson_errors, label='Simpson rule')\n",
    "plt.yscale('log')\n",
    "plt.xscale('log')\n",
    "plt.legend()\n",
    "plt.show()"
   ]
  }
 ],
 "metadata": {
  "language_info": {
   "name": "python"
  }
 },
 "nbformat": 4,
 "nbformat_minor": 2
}
