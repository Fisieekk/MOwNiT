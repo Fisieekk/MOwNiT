{
 "cells": [
  {
   "cell_type": "code",
   "execution_count": 1,
   "metadata": {},
   "outputs": [],
   "source": [
    "import numpy as np\n",
    "import pandas as pd\n",
    "import matplotlib.pyplot as plt\n",
    "import scipy\n",
    "\n",
    "\n",
    "DOMAIN_1 = (-1,1)\n",
    "DOMAIN_2 = [0, 2*np.pi]"
   ]
  },
  {
   "cell_type": "code",
   "execution_count": 41,
   "metadata": {},
   "outputs": [],
   "source": [
    "def f_1(x):\n",
    "    return 1 / (1 + 25 * x ** 2)\n",
    "\n",
    "def f_2(x):\n",
    "    return np.exp(np.cos(x))\n"
   ]
  },
  {
   "cell_type": "markdown",
   "metadata": {},
   "source": [
    "#### Wyznacz wielomiany interpolujące funkcje: $f_1(x)$ na przedziale [−1, 1] , $f_2(x)$ na przedziale [0, 2π] używając:\n"
   ]
  },
  {
   "cell_type": "markdown",
   "metadata": {},
   "source": [
    "##### wielomianów Lagrange’a z równoodległymi węzłami\n",
    "\n",
    "$x_j = x_0+jh, j = 0, 1, . . . , n, \\text{gdzie } h = (x_n − x_0)/n$"
   ]
  },
  {
   "cell_type": "markdown",
   "metadata": {},
   "source": [
    "\n",
    "##### kubicznych funkcji sklejanych z równoodległymi węzłami\n",
    "\n",
    "$x_j = x_0+jh, j = 0, 1, . . . , n, \\text{gdzie } h = (x_n − x_0)/n$\n"
   ]
  },
  {
   "cell_type": "markdown",
   "metadata": {},
   "source": [
    "\n",
    "##### wielomianów Lagrange’a z węzłami Czebyszewa\n",
    "\n",
    "$\n",
    "\\begin{equation}\n",
    "    x_j = cos(\\theta_j) \\text{    } \\theta_j = \\frac{2j + 1} {2(n + 1)} π, \\text{ }0 ≤ j ≤ n\n",
    "\\end{equation}\n",
    "$"
   ]
  },
  {
   "cell_type": "code",
   "execution_count": 42,
   "metadata": {},
   "outputs": [],
   "source": [
    "def h_value(domain, n):\n",
    "    return (domain[1]-domain[0])/n\n",
    "\n",
    "def equispaced_nodes(domain, n):\n",
    "    return np.arange(n+1)*h_value(domain, n) + domain[0]\n",
    "\n",
    "def chebyshev_nodes(domain, n):\n",
    "    return ((np.cos((2 * np.arange(n+1) + 1) * np.pi / (2 * (n + 1))) + 1 ) / 2) * (domain[1] - domain[0]) + domain[0]\n",
    "\n",
    "def lagrange_interpolation(x, y, t):\n",
    "    n = len(x)\n",
    "    L = 0\n",
    "    for i in range(n):\n",
    "        l = 1\n",
    "        for j in range(n):\n",
    "            if j != i:\n",
    "                l *= (t - x[j]) / (x[i] - x[j])\n",
    "        L += y[i] * l\n",
    "    return L"
   ]
  },
  {
   "cell_type": "markdown",
   "metadata": {},
   "source": [
    "##### a)\n",
    "Dla funkcji Rungego, $f_1(x)$, z $n$ = 12 węzłami interpolacji przedstaw na wspólnym wykresie funkcję $f_1(x)$ oraz wyznaczone wielomiany interpolacyjne i funkcję sklejaną. W celu stworzenia wykresu wykonaj próbkowanie funkcji $f_1(x)$ i wielomianów interpolacyjnych na 10 razy gęstszym zbiorze (próbkowanie jednostajne w x dla węzłów równoodległych, jednostajne w θ dla węzłów Czebyszewa). Pamiętaj o podpisaniu wykresu i osi oraz o legendzie."
   ]
  },
  {
   "cell_type": "code",
   "execution_count": 43,
   "metadata": {},
   "outputs": [],
   "source": [
    "eq_nodes = equispaced_nodes(DOMAIN_1, 12)\n",
    "chbshv_nodes = chebyshev_nodes(DOMAIN_1, 12)\n",
    "\n",
    "fig, ax = plt.subplots()\n",
    "ax.plot()\n"
   ]
  },
  {
   "cell_type": "markdown",
   "metadata": {},
   "source": [
    "#### b)\n",
    "\n",
    "Wykonaj interpolację funkcji $f_1(x)$ i $f_2(x)$ z $n$ = 4, 5, ..., 50 węzłami interpolacji, używając każdej z powyższych trzech metod interpolacji. Ewaluację funkcji, wielomianów interpolacyjnych oraz funkcji sklejanych przeprowadź na zbiorze 500 losowo wybranych punktów z dziedziny funkcji. Stwórz dwa rysunki, jeden dla $f_1(x)$, drugi dla $f_2(x)$. Na każdym rysunku przedstaw razem wykresy normy wektora błędów (czyli długości wektora) na tym zbiorze punktów w zależności od liczby węzłów interpolacji, n, dla każdej z trzech metod interpolacji.\n",
    "\n"
   ]
  },
  {
   "cell_type": "code",
   "execution_count": null,
   "metadata": {},
   "outputs": [],
   "source": []
  },
  {
   "cell_type": "markdown",
   "metadata": {},
   "source": [
    "Która metoda interpolacji jest najbardziej dokładna, a która najmniej?"
   ]
  }
 ],
 "metadata": {
  "kernelspec": {
   "display_name": "Python 3",
   "language": "python",
   "name": "python3"
  },
  "language_info": {
   "codemirror_mode": {
    "name": "ipython",
    "version": 3
   },
   "file_extension": ".py",
   "mimetype": "text/x-python",
   "name": "python",
   "nbconvert_exporter": "python",
   "pygments_lexer": "ipython3",
   "version": "3.12.2"
  }
 },
 "nbformat": 4,
 "nbformat_minor": 2
}
